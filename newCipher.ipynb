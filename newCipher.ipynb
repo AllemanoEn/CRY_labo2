{
 "cells": [
  {
   "cell_type": "code",
   "execution_count": 175,
   "metadata": {},
   "outputs": [],
   "source": [
    "def bytesToGFVector(b):\n",
    "    \"\"\"\n",
    "    Converts a 128-bit python byte-string into a vector of 128 values in GF(2)\n",
    "    PAS BESOIN DE COMPRENDRE COMMENT FONCTIONNE CETTE FONCTION\n",
    "    @type b: bytes\n",
    "    @param b: A 128-bit byte-string\n",
    "    @rtype: Sage vector over GF(2) \n",
    "    @returns: The corresponding vector of size 128\n",
    "    \"\"\"\n",
    "    l =  [int(c) for c in \"\".join([format(i,\"08b\") for i in b])]\n",
    "    V = VectorSpace(GF(2), 128)\n",
    "    return V(l)"
   ]
  },
  {
   "cell_type": "code",
   "execution_count": 176,
   "metadata": {},
   "outputs": [],
   "source": [
    "def GFVectorToBytes(vector):\n",
    "    \"\"\"\n",
    "    Converts a vector of 128 values in GF(2) into a 128-bit python byte-string\n",
    "    PAS BESOIN DE COMPRENDRE COMMENT FONTIONNE CETTE FONCTION\n",
    "    @type vector: Sage Vector over GF(2)\n",
    "    @param vector: A vector of size 128 in GF(2).\n",
    "    @rtype: bytes\n",
    "    @returns: The corresponding bytes\n",
    "    \"\"\"\n",
    "    return bytes([int(x,2) for x in list(map(str,[''.join(map(str,vector))[i:i+8] for i in range(0, len(vector), 8)]))])"
   ]
  },
  {
   "cell_type": "code",
   "execution_count": 177,
   "metadata": {},
   "outputs": [],
   "source": [
    "def keyGen():\n",
    "    \"\"\"\n",
    "    Generates the key used in the cipher\n",
    "    @rtype: 128x128 Matrix over GF(2)\n",
    "    @returns:a random invertible matrix over GF(2)^(128x128)\n",
    "    \"\"\"\n",
    "    M = MatrixSpace(GF(2), 128, 128)\n",
    "    A = M.zero()\n",
    "    while not A.is_invertible():\n",
    "        A = M.random_element()\n",
    "    V = VectorSpace(GF(2), 128)\n",
    "    return A"
   ]
  },
  {
   "cell_type": "code",
   "execution_count": 178,
   "metadata": {},
   "outputs": [],
   "source": [
    "def encrypt(message, A):\n",
    "    \"\"\"\n",
    "    Encrypts a plaintext into a ciphertext using an invertible matrix as key\n",
    "    The plaintext needs to have a size multiple of 128 bits\n",
    "    The CBC mode of operation (with IV = 0) is used.\n",
    "    \n",
    "    @type message: bytes\n",
    "    @param message: The message to encrypt. Its size needs to be a multiple of 128 bits\n",
    "    @type A: matrix\n",
    "    @param A: The invertible matrix over GF(2)^(128x128) to use as key\n",
    "    @rtype: bytes\n",
    "    @returns: a 128-bit ciphertext encrypted with CBC with underlying block cipher being A*m\n",
    "    \n",
    "    \"\"\"\n",
    "    if len(message) % 16 != 0:\n",
    "        print(\"The length of the message has to be a multiple of 128 bits\")\n",
    "        return\n",
    "    message_blocks = [message[16*i:16*(i+1)] for i in range(len(message)//16)]\n",
    "    IV = bytesToGFVector(b\"\\x00\"*16)\n",
    "    ct = b\"\"\n",
    "    for m in message_blocks:\n",
    "        m = bytesToGFVector(m)\n",
    "        IV = A*(m+IV)\n",
    "        ct += GFVectorToBytes(IV)\n",
    "    return ct"
   ]
  },
  {
   "cell_type": "code",
   "execution_count": 186,
   "metadata": {
    "pycharm": {
     "name": "#%%\n"
    }
   },
   "outputs": [],
   "source": [
    "def decrypt(ciphertext, A):\n",
    "    if len(ciphertext) % 16 != 0:\n",
    "        print(\"The length of the ciphertext has to be a multiple of 128 bits\")\n",
    "        return\n",
    "    ciphertext_blocks = [ciphertext[16*i:16*(i+1)] for i in range(len(ciphertext)//16)]\n",
    "    IV = bytesToGFVector(b\"\\x00\"*16)\n",
    "    pt = b\"\"\n",
    "    for c in ciphertext_blocks:\n",
    "        c = bytesToGFVector(c)\n",
    "        pt += GFVectorToBytes(A.inverse()*(c) + IV)\n",
    "        IV = c\n",
    "    return pt"
   ]
  },
  {
   "cell_type": "code",
   "execution_count": 187,
   "metadata": {},
   "outputs": [
    {
     "name": "stdout",
     "output_type": "stream",
     "text": [
      "b'VOICILACLESECRETEDE256BITSXXXXXX'\n"
     ]
    }
   ],
   "source": [
    "A = keyGen()\n",
    "pt2 = \"VOICILACLESECRETEDE256BITSXXXXXX\"\n",
    "\n",
    "ciphertext = encrypt(pt2.encode(), A)\n",
    "print(decrypt(ciphertext, A))"
   ]
  },
  {
   "cell_type": "code",
   "execution_count": null,
   "metadata": {},
   "outputs": [],
   "source": []
  }
 ],
 "metadata": {
  "kernelspec": {
   "display_name": "SageMath 9.3",
   "language": "sage",
   "name": "sagemath"
  },
  "language_info": {
   "codemirror_mode": {
    "name": "ipython",
    "version": 3
   },
   "file_extension": ".py",
   "mimetype": "text/x-python",
   "name": "python",
   "nbconvert_exporter": "python",
   "pygments_lexer": "ipython3",
   "version": "3.7.10"
  }
 },
 "nbformat": 4,
 "nbformat_minor": 4
}